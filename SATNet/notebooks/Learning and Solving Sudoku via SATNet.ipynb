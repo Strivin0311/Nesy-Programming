{
 "cells": [
  {
   "cell_type": "code",
   "execution_count": 1,
   "metadata": {},
   "outputs": [],
   "source": [
    "import os\n",
    "import shutil\n",
    "import argparse\n",
    "from collections import namedtuple\n",
    "\n",
    "import numpy as np\n",
    "import numpy.random as npr\n",
    "\n",
    "import torch\n",
    "import torch.nn as nn\n",
    "import torch.optim as optim\n",
    "import torch.nn.functional as F\n",
    "from torch.utils.data import TensorDataset, DataLoader\n",
    "\n",
    "%matplotlib inline\n",
    "import matplotlib.pyplot as plt\n",
    "from IPython.display import display, Markdown, Latex, clear_output"
   ]
  },
  {
   "cell_type": "markdown",
   "metadata": {},
   "source": [
    "# Introduction to SATNet"
   ]
  },
  {
   "cell_type": "markdown",
   "metadata": {},
   "source": [
    "SATNet is a differentiable (smoothed) maximum satisfiability (MAXSAT) solver that can be integrated into the loop of larger deep learning systems.  Our (approximate) solver is based upon a fast coordinate descent approach to solving the semidefinite program (SDP) associated with the MAXSAT problem.\n",
    "\n",
    "The code below reproduces the Sudoku experiments from our paper \"SATNet: Bridging deep learning and logical reasoning using a differentiable satisfiability solver.\" These experiments show that by integrating the SATNet solver into end-to-end learning systems, we can learn the logical structure of challenging problems in a minimally supervised fashion. In particular, this notebook shows how we can learn to:\n",
    "* Play **9×9 Sudoku (original and permuted)** solely from examples.\n",
    "* Solve a **\"visual Sudoku\"** problem that maps images of Sudoku puzzles to their associated logical solutions. \n",
    "\n",
    "For more details and discussion about these experiments, please see the [SATNet paper](https://icml.cc/Conferences/2019/Schedule?showEvent=3947)."
   ]
  },
  {
   "cell_type": "code",
   "execution_count": 2,
   "metadata": {},
   "outputs": [
    {
     "name": "stdout",
     "output_type": "stream",
     "text": [
      "SATNet document\n",
      " Apply a SATNet layer to complete the input probabilities.\n",
      "\n",
      "    Args:\n",
      "        n: Number of input variables.\n",
      "        m: Rank of the clause matrix.\n",
      "        aux: Number of auxiliary variables.\n",
      "\n",
      "        max_iter: Maximum number of iterations for solving\n",
      "            the inner optimization problem.\n",
      "            Default: 40\n",
      "        eps: The stopping threshold for the inner optimizaiton problem.\n",
      "            The inner Mixing method will stop when the function decrease\n",
      "            is less then eps times the initial function decrease.\n",
      "            Default: 1e-4\n",
      "        prox_lam: The diagonal increment in the backward linear system\n",
      "            to make the backward pass more stable.\n",
      "            Default: 1e-2\n",
      "        weight_normalize: Set true to perform normlization for init weights.\n",
      "            Default: True\n",
      "\n",
      "    Inputs: (z, is_input)\n",
      "        **z** of shape `(batch, n)`: \n",
      "            Float tensor containing the probabilities (must be in [0,1]).\n",
      "        **is_input** of shape `(batch, n)`: \n",
      "            Int tensor indicating which **z** is a input.\n",
      "\n",
      "    Outputs: z\n",
      "        **z** of shape `(batch, n)`:\n",
      "            The prediction probabiolities.\n",
      "\n",
      "    Attributes: S\n",
      "        **S** of shape `(n, m)`:\n",
      "            The learnable clauses matrix containing `m` clauses \n",
      "            for the `n` variables.\n",
      "\n",
      "    Examples:\n",
      "        >>> sat = satnet.SATNet(3, 4, aux=5)\n",
      "        >>> z = torch.randn(2, 3)\n",
      "        >>> is_input = torch.IntTensor([[1, 1, 0], [1,0,1]])\n",
      "        >>> pred = sat(z, is_input)\n",
      "    \n"
     ]
    }
   ],
   "source": [
    "import satnet\n",
    "print('SATNet document\\n', satnet.SATNet.__doc__)"
   ]
  },
  {
   "cell_type": "markdown",
   "metadata": {},
   "source": [
    "# Building SATNet-based Models"
   ]
  },
  {
   "cell_type": "markdown",
   "metadata": {},
   "source": [
    "To solve **Sudoku** and a **permuted version of Sudoku**: We construct a SATNet-based SudokuSolver layer that takes as input a logical (bit) representation of the initial Sudoku board along with a mask representing which bits must be learned (i.e. all bits in empty Sudoku cells). This input is vectorized. Given this input, the SudokuSolver layer then outputs a bit representation of the Sudoku board with guesses for the unknown bits."
   ]
  },
  {
   "cell_type": "code",
   "execution_count": 3,
   "metadata": {},
   "outputs": [],
   "source": [
    "class SudokuSolver(nn.Module):\n",
    "    def __init__(self, boardSz, aux, m):\n",
    "        super(SudokuSolver, self).__init__()\n",
    "        n = boardSz**6\n",
    "        self.sat = satnet.SATNet(n, m, aux)\n",
    "\n",
    "    def forward(self, y_in, mask):\n",
    "        out = self.sat(y_in, mask)\n",
    "        del y_in, mask\n",
    "        return out"
   ]
  },
  {
   "cell_type": "markdown",
   "metadata": {},
   "source": [
    "To solve **\"visual Sudoku\"**: We construct a (standard) convolutional neural network for MNIST digit recognition and train it end-to-end with our SudokuSolver layer. This architecture takes in an image representation of a Sudoku board constructed with MNIST digits. Each MNIST digit is classified by the convolutional network, and the resulting (estimated) logical representation of the initial Sudoku board is then fed as input to the SudokuSolver layer. (As described earlier, the SudokuSolver layer then outputs a bit representation of the Sudoku board with guesses for the unknown bits.)"
   ]
  },
  {
   "cell_type": "code",
   "execution_count": 4,
   "metadata": {},
   "outputs": [],
   "source": [
    "class DigitConv(nn.Module):\n",
    "    '''\n",
    "    Convolutional neural network for MNIST digit recognition. From:\n",
    "    https://github.com/pytorch/examples/blob/master/mnist/main.py\n",
    "    '''\n",
    "    def __init__(self):\n",
    "        super(DigitConv, self).__init__()\n",
    "        self.conv1 = nn.Conv2d(1, 20, 5, 1)\n",
    "        self.conv2 = nn.Conv2d(20, 50, 5, 1)\n",
    "        self.fc1 = nn.Linear(4*4*50, 500)\n",
    "        self.fc2 = nn.Linear(500, 10)\n",
    "\n",
    "    def forward(self, x):\n",
    "        x = F.relu(self.conv1(x))\n",
    "        x = F.max_pool2d(x, 2, 2)\n",
    "        x = F.relu(self.conv2(x))\n",
    "        x = F.max_pool2d(x, 2, 2)\n",
    "        x = x.view(-1, 4*4*50)\n",
    "        x = F.relu(self.fc1(x))\n",
    "        x = self.fc2(x)\n",
    "        return F.softmax(x, dim=1)[:,:9].contiguous()\n",
    "\n",
    "class MNISTSudokuSolver(nn.Module):\n",
    "    def __init__(self, boardSz, aux, m):\n",
    "        super(MNISTSudokuSolver, self).__init__()\n",
    "        self.digit_convnet = DigitConv()\n",
    "        self.sudoku_solver = SudokuSolver(boardSz, aux, m)\n",
    "        self.boardSz = boardSz\n",
    "        self.nSq = boardSz**2\n",
    "    \n",
    "    def forward(self, x, is_inputs):\n",
    "        nBatch = x.shape[0]\n",
    "        x = x.flatten(start_dim = 0, end_dim = 1)\n",
    "        digit_guess = self.digit_convnet(x)\n",
    "        puzzles = digit_guess.view(nBatch, self.nSq * self.nSq * self.nSq)\n",
    "\n",
    "        solution = self.sudoku_solver(puzzles, is_inputs)\n",
    "        return solution"
   ]
  },
  {
   "cell_type": "markdown",
   "metadata": {},
   "source": [
    "The experimental parameters we use in the paper are below."
   ]
  },
  {
   "cell_type": "code",
   "execution_count": 5,
   "metadata": {},
   "outputs": [],
   "source": [
    "from exps.sudoku import train, test, FigLogger, find_unperm\n",
    "args_dict = {'lr': 2e-3, \n",
    "             'cuda': torch.cuda.is_available(), \n",
    "             'batchSz': 40,\n",
    "             'mnistBatchSz': 50,\n",
    "             'boardSz': 3, # for 9x9 Sudoku\n",
    "             'm': 600,\n",
    "             'aux': 300,\n",
    "             'nEpoch': 100\n",
    "            }\n",
    "args = namedtuple('Args', args_dict.keys())(*args_dict.values())"
   ]
  },
  {
   "cell_type": "markdown",
   "metadata": {},
   "source": [
    "# The Sudoku Datasets"
   ]
  },
  {
   "cell_type": "markdown",
   "metadata": {},
   "source": [
    "We use and/or create the following datasets:\n",
    "* **Sudoku:** We generate 10K 9x9 Sudoku boards (9K test/1K train) using code available [here](https://github.com/Kyubyong/sudoku) and represent them via bit (one-hot) representations.\n",
    "* **Permuted Sudoku:** We apply a fixed permutation to the 10K Sudoku board bit representations generated for the Sudoku experiment.\n",
    "* **Visual Sudoku:** We construct versions of the 10K Sudoku boards generated for the Sudoku experiment in which each board cell is represented by a (randomly-selected) MNIST digit. (MNIST digits are also split into train/test sets, with train and test MNIST digits applied only to train and test Sudoku boards, respectively.)\n",
    "\n",
    "The code below reads and processes these datasets for use with the architectures constructed above. A sample Sudoku board, its associated bit representation, and its associated MNIST representation are displayed below."
   ]
  },
  {
   "cell_type": "code",
   "execution_count": 6,
   "metadata": {},
   "outputs": [],
   "source": [
    "def process_inputs(X, Ximg, Y, boardSz):\n",
    "    is_input = X.sum(dim=3, keepdim=True).expand_as(X).int().sign()\n",
    "\n",
    "    Ximg = Ximg.flatten(start_dim=1, end_dim=2)\n",
    "    Ximg = Ximg.unsqueeze(2).float()\n",
    "\n",
    "    X      = X.view(X.size(0), -1)\n",
    "    Y      = Y.view(Y.size(0), -1)\n",
    "    is_input = is_input.view(is_input.size(0), -1)\n",
    "\n",
    "    return X, Ximg, Y, is_input\n",
    "\n",
    "with open('sudoku/features.pt', 'rb') as f:\n",
    "    X_in = torch.load(f)\n",
    "with open('sudoku/features_img.pt', 'rb') as f:\n",
    "    Ximg_in = torch.load(f)\n",
    "with open('sudoku/labels.pt', 'rb') as f:\n",
    "    Y_in = torch.load(f)\n",
    "with open('sudoku/perm.pt', 'rb') as f:\n",
    "    perm = torch.load(f)\n",
    "\n",
    "X, Ximg, Y, is_input = process_inputs(X_in, Ximg_in, Y_in, args.boardSz)\n",
    "if args.cuda: X, Ximg, is_input, Y = X.cuda(), Ximg.cuda(), is_input.cuda(), Y.cuda()\n",
    "\n",
    "N = X_in.size(0)\n",
    "nTrain = int(N*0.9)\n",
    "\n",
    "sudoku_train = TensorDataset(X[:nTrain], is_input[:nTrain], Y[:nTrain])\n",
    "sudoku_test =  TensorDataset(X[nTrain:], is_input[nTrain:], Y[nTrain:])\n",
    "perm_train = TensorDataset(X[:nTrain,perm], is_input[:nTrain,perm], Y[:nTrain,perm])\n",
    "perm_test =  TensorDataset(X[nTrain:,perm], is_input[nTrain:,perm], Y[nTrain:,perm])\n",
    "mnist_train = TensorDataset(Ximg[:nTrain], is_input[:nTrain], Y[:nTrain])\n",
    "mnist_test =  TensorDataset(Ximg[nTrain:], is_input[nTrain:], Y[nTrain:])"
   ]
  },
  {
   "cell_type": "code",
   "execution_count": 7,
   "metadata": {},
   "outputs": [
    {
     "data": {
      "text/markdown": [
       "## Sudoku"
      ],
      "text/plain": [
       "<IPython.core.display.Markdown object>"
      ]
     },
     "metadata": {},
     "output_type": "display_data"
    },
    {
     "name": "stdout",
     "output_type": "stream",
     "text": [
      "tensor([[6, 7, 0, 0, 0, 0, 0, 0, 5],\n",
      "        [0, 0, 3, 0, 4, 0, 0, 8, 2],\n",
      "        [0, 4, 0, 0, 0, 5, 1, 3, 6],\n",
      "        [0, 0, 0, 7, 3, 0, 0, 9, 0],\n",
      "        [3, 0, 4, 2, 0, 6, 0, 7, 0],\n",
      "        [0, 0, 1, 0, 9, 0, 6, 0, 0],\n",
      "        [5, 0, 9, 0, 0, 8, 0, 0, 0],\n",
      "        [0, 0, 0, 9, 5, 0, 2, 0, 8],\n",
      "        [0, 0, 0, 1, 2, 7, 4, 0, 0]])\n",
      "\n"
     ]
    },
    {
     "data": {
      "text/markdown": [
       "## One-hot encoded Boolean Sudoku"
      ],
      "text/plain": [
       "<IPython.core.display.Markdown object>"
      ]
     },
     "metadata": {},
     "output_type": "display_data"
    },
    {
     "name": "stdout",
     "output_type": "stream",
     "text": [
      "tensor([0., 0., 0., 0., 0., 1., 0., 0., 0., 0., 0., 0., 0., 0., 0., 1., 0., 0.,\n",
      "        0., 0., 0., 0., 0., 0., 0., 0., 0., 0., 0., 0., 0., 0., 0., 0., 0., 0.,\n",
      "        0., 0., 0., 0., 0., 0., 0., 0., 0., 0., 0., 0., 0., 0., 0., 0., 0., 0.,\n",
      "        0., 0., 0., 0., 0., 0., 0., 0., 0., 0., 0., 0., 0., 0., 0., 0., 0., 0.,\n",
      "        0., 0., 0., 0., 1., 0., 0., 0., 0., 0., 0., 0., 0., 0., 0., 0., 0., 0.,\n",
      "        0., 0., 0., 0., 0., 0., 0., 0., 0., 0., 0., 1., 0., 0., 0., 0., 0., 0.,\n",
      "        0., 0., 0., 0., 0., 0., 0., 0., 0., 0., 0., 0., 1., 0., 0., 0., 0., 0.,\n",
      "        0., 0., 0., 0., 0., 0., 0., 0., 0., 0., 0., 0., 0., 0., 0., 0., 0., 0.,\n",
      "        0., 0., 0., 0., 0., 0., 0., 1., 0., 0., 1., 0., 0., 0., 0., 0., 0., 0.,\n",
      "        0., 0., 0., 0., 0., 0., 0., 0., 0., 0., 0., 0., 1., 0., 0., 0., 0., 0.,\n",
      "        0., 0., 0., 0., 0., 0., 0., 0., 0., 0., 0., 0., 0., 0., 0., 0., 0., 0.,\n",
      "        0., 0., 0., 0., 0., 0., 0., 0., 0., 0., 0., 0., 0., 1., 0., 0., 0., 0.,\n",
      "        1., 0., 0., 0., 0., 0., 0., 0., 0., 0., 0., 1., 0., 0., 0., 0., 0., 0.,\n",
      "        0., 0., 0., 0., 0., 1., 0., 0., 0., 0., 0., 0., 0., 0., 0., 0., 0., 0.,\n",
      "        0., 0., 0., 0., 0., 0., 0., 0., 0., 0., 0., 0., 0., 0., 0., 0., 0., 0.,\n",
      "        0., 0., 0., 0., 0., 0., 1., 0., 0., 0., 0., 1., 0., 0., 0., 0., 0., 0.,\n",
      "        0., 0., 0., 0., 0., 0., 0., 0., 0., 0., 0., 0., 0., 0., 0., 0., 0., 0.,\n",
      "        0., 0., 0., 0., 0., 0., 0., 0., 1., 0., 0., 0., 0., 0., 0., 0., 0., 0.,\n",
      "        0., 0., 1., 0., 0., 0., 0., 0., 0., 0., 0., 0., 0., 0., 0., 0., 0., 0.,\n",
      "        0., 0., 0., 1., 0., 0., 0., 0., 0., 0., 1., 0., 0., 0., 0., 0., 0., 0.,\n",
      "        0., 0., 0., 0., 0., 0., 0., 0., 0., 0., 0., 0., 0., 0., 1., 0., 0., 0.,\n",
      "        0., 0., 0., 0., 0., 0., 0., 0., 0., 0., 0., 0., 0., 0., 0., 1., 0., 0.,\n",
      "        0., 0., 0., 0., 0., 0., 0., 0., 0., 0., 0., 0., 0., 0., 0., 0., 0., 0.,\n",
      "        0., 0., 0., 0., 0., 0., 0., 0., 0., 1., 0., 0., 0., 0., 0., 0., 0., 0.,\n",
      "        0., 0., 0., 0., 0., 0., 0., 0., 0., 0., 0., 0., 0., 0., 0., 0., 0., 1.,\n",
      "        0., 0., 0., 0., 0., 0., 0., 0., 0., 0., 0., 0., 0., 0., 1., 0., 0., 0.,\n",
      "        0., 0., 0., 0., 0., 0., 0., 0., 0., 0., 0., 0., 0., 0., 0., 0., 0., 0.,\n",
      "        0., 0., 0., 0., 1., 0., 0., 0., 0., 0., 0., 0., 0., 0., 0., 0., 0., 0.,\n",
      "        0., 0., 0., 0., 0., 0., 0., 0., 1., 0., 0., 0., 0., 0., 0., 0., 0., 0.,\n",
      "        0., 0., 0., 0., 0., 0., 0., 0., 0., 0., 0., 0., 0., 0., 0., 0., 1., 0.,\n",
      "        0., 0., 0., 0., 0., 0., 0., 0., 0., 0., 0., 0., 0., 0., 0., 0., 0., 0.,\n",
      "        0., 0., 0., 0., 0., 0., 0., 0., 0., 0., 0., 0., 0., 0., 0., 0., 0., 0.,\n",
      "        0., 0., 0., 0., 0., 0., 0., 0., 0., 0., 0., 0., 0., 0., 0., 0., 0., 0.,\n",
      "        0., 0., 0., 0., 0., 0., 0., 0., 1., 0., 0., 0., 0., 1., 0., 0., 0., 0.,\n",
      "        0., 0., 0., 0., 0., 0., 0., 0., 0., 0., 1., 0., 0., 0., 0., 0., 0., 0.,\n",
      "        0., 0., 0., 0., 0., 0., 0., 0., 0., 0., 0., 0., 0., 0., 0., 0., 1., 0.,\n",
      "        0., 0., 0., 0., 0., 0., 0., 0., 0., 0., 0., 0., 0., 0., 0., 0., 0., 0.,\n",
      "        0., 0., 0., 0., 0., 0., 0., 0., 0., 1., 0., 0., 0., 0., 0., 0., 0., 0.,\n",
      "        0., 1., 0., 0., 0., 0., 0., 0., 0., 0., 0., 0., 0., 0., 0., 1., 0., 0.,\n",
      "        0., 0., 0., 1., 0., 0., 0., 0., 0., 0., 0., 0., 0., 0., 0., 0., 0., 0.,\n",
      "        0., 0., 0., 0., 0., 0., 0., 0., 0.], device='cuda:0')\n"
     ]
    },
    {
     "data": {
      "text/markdown": [
       "## MNIST Sudoku"
      ],
      "text/plain": [
       "<IPython.core.display.Markdown object>"
      ]
     },
     "metadata": {},
     "output_type": "display_data"
    },
    {
     "data": {
      "image/png": "[encoded data removed]",
      "text/plain": [
       "<Figure size 432x288 with 1 Axes>"
      ]
     },
     "metadata": {
      "needs_background": "light"
     },
     "output_type": "display_data"
    }
   ],
   "source": [
    "def show_sudoku(raw):\n",
    "    return (torch.argmax(raw,2)+1)*(raw.sum(2).long())\n",
    "\n",
    "def show_mnist_sudoku(raw):\n",
    "    A = raw.numpy()\n",
    "    digits = np.concatenate(np.concatenate(A,axis=1), axis=1).astype(np.uint8)\n",
    "    linewidth = 2\n",
    "    board = np.zeros((digits.shape[0]+linewidth*4, digits.shape[1]+linewidth*4), dtype=np.uint8)\n",
    "    gridwidth = digits.shape[0]//3\n",
    "\n",
    "    board[:] = 255\n",
    "    for i in range(3):\n",
    "        for j in range(3):\n",
    "            xoff = linewidth+(linewidth+gridwidth)*i\n",
    "            yoff = linewidth+(linewidth+gridwidth)*j\n",
    "            xst = gridwidth*i\n",
    "            yst = gridwidth*j\n",
    "            board[xoff:xoff+gridwidth, yoff:yoff+gridwidth] = digits[xst:xst+gridwidth, yst:yst+gridwidth]\n",
    "\n",
    "    #img = Image.fromarray(255-board)\n",
    "    plt.imshow(255-board, cmap='gray')\n",
    "\n",
    "display(Markdown('## Sudoku'))\n",
    "print(show_sudoku(X_in[0]))\n",
    "print()\n",
    "display(Markdown('## One-hot encoded Boolean Sudoku'))\n",
    "print(X[0])\n",
    "    \n",
    "display(Markdown('## MNIST Sudoku'))\n",
    "show_mnist_sudoku(Ximg_in[0])"
   ]
  },
  {
   "cell_type": "markdown",
   "metadata": {},
   "source": [
    "# The 9x9 Sudoku Experiment"
   ]
  },
  {
   "cell_type": "markdown",
   "metadata": {},
   "source": [
    "The results for our 9x9 Sudoku experiment are below. In this experiment, we:\n",
    "* **Input** a logical (bit) representation of the initial (unsolved) Sudoku board along with a mask representing which bits must be learned (i.e. all bits in empty Sudoku cells). This input is vectorized, which means that our SATNet model cannot exploit the locality structure of the input Sudoku grid when learning to solve puzzles.\n",
    "* **Output** a bit representation of the Sudoku board with guesses for the unknown bits."
   ]
  },
  {
   "cell_type": "code",
   "execution_count": 8,
   "metadata": {},
   "outputs": [],
   "source": [
    "%%capture\n",
    "sudoku_model = SudokuSolver(args.boardSz, args.aux, args.m)\n",
    "if args.cuda: sudoku_model = sudoku_model.cuda()\n",
    "    \n",
    "optimizer = optim.Adam(sudoku_model.parameters(), lr=args.lr)\n",
    "\n",
    "fig, axes = plt.subplots(1,2, figsize=(10,4))\n",
    "plt.subplots_adjust(wspace=0.4)\n",
    "train_logger = FigLogger(fig, axes[0], 'Traininig')\n",
    "test_logger = FigLogger(fig, axes[1], 'Testing')"
   ]
  },
  {
   "cell_type": "code",
   "execution_count": 9,
   "metadata": {},
   "outputs": [
    {
     "data": {
      "image/png": "[encoded data removed]",
      "text/plain": [
       "<Figure size 720x288 with 4 Axes>"
      ]
     },
     "metadata": {},
     "output_type": "display_data"
    }
   ],
   "source": [
    "test(args.boardSz, 0, sudoku_model, optimizer, test_logger, sudoku_test, args.batchSz)\n",
    "for epoch in range(1, args.nEpoch+1):\n",
    "    train(args.boardSz, epoch, sudoku_model, optimizer, train_logger, sudoku_train, args.batchSz)\n",
    "    test(args.boardSz, epoch, sudoku_model, optimizer, test_logger, sudoku_test, args.batchSz)\n",
    "    clear_output()\n",
    "    display(fig)"
   ]
  },
  {
   "cell_type": "markdown",
   "metadata": {},
   "source": [
    "# The Permuted 9x9 Sudoku Experiment"
   ]
  },
  {
   "cell_type": "markdown",
   "metadata": {},
   "source": [
    "The results for our permuted 9x9 Sudoku experiment are below. In this experiment, we:\n",
    "* **Input** the same inputs as in the original 9x9 Sudoku experiment, but with a fixed permutation applied.\n",
    "* **Output** a bit representation of the permuted Sudoku board with guesses for the unknown bits."
   ]
  },
  {
   "cell_type": "code",
   "execution_count": 10,
   "metadata": {},
   "outputs": [],
   "source": [
    "%%capture\n",
    "perm_model = SudokuSolver(args.boardSz, args.aux, args.m)\n",
    "if args.cuda: perm_model = perm_model.cuda()\n",
    "    \n",
    "optimizer = optim.Adam(perm_model.parameters(), lr=args.lr)\n",
    "\n",
    "fig, axes = plt.subplots(1,2, figsize=(10,4))\n",
    "plt.subplots_adjust(wspace=0.4)\n",
    "train_logger = FigLogger(fig, axes[0], 'Traininig')\n",
    "test_logger = FigLogger(fig, axes[1], 'Testing')"
   ]
  },
  {
   "cell_type": "code",
   "execution_count": 11,
   "metadata": {},
   "outputs": [
    {
     "data": {
      "image/png": "[encoded data removed]",
      "text/plain": [
       "<Figure size 720x288 with 4 Axes>"
      ]
     },
     "metadata": {},
     "output_type": "display_data"
    }
   ],
   "source": [
    "unperm = find_unperm(perm)\n",
    "test(args.boardSz, 0, perm_model, optimizer, test_logger, perm_test, args.batchSz, unperm)\n",
    "for epoch in range(1, args.nEpoch+1):\n",
    "    train(args.boardSz, epoch, perm_model, optimizer, train_logger, perm_train, args.batchSz, unperm)\n",
    "    test(args.boardSz, epoch, perm_model, optimizer, test_logger, perm_test, args.batchSz, unperm)\n",
    "    clear_output()\n",
    "    display(fig)"
   ]
  },
  {
   "cell_type": "markdown",
   "metadata": {},
   "source": [
    "# The End-to-End MNIST Sudoku (\"Visual Sudoku\") Experiment"
   ]
  },
  {
   "cell_type": "markdown",
   "metadata": {},
   "source": [
    "The results for our permuted 9x9 Sudoku experiment are below. In this experiment, we:\n",
    "* **Input** an image representation of the initial (unsolved) Sudoku board.\n",
    "* **Output** a bit representation of the Sudoku board with guesses for the unknown bits."
   ]
  },
  {
   "cell_type": "code",
   "execution_count": 12,
   "metadata": {},
   "outputs": [],
   "source": [
    "%%capture\n",
    "mnist_sudoku = MNISTSudokuSolver(args.boardSz, args.aux, args.m)\n",
    "if args.cuda: mnist_sudoku = mnist_sudoku.cuda()\n",
    "    \n",
    "optimizer = optim.Adam([\n",
    "            {'params': mnist_sudoku.sudoku_solver.parameters(), 'lr': args.lr},\n",
    "            {'params': mnist_sudoku.digit_convnet.parameters(), 'lr': 1e-5},\n",
    "            ])\n",
    "\n",
    "fig, axes = plt.subplots(1,2, figsize=(10,4))\n",
    "plt.subplots_adjust(wspace=0.4)\n",
    "train_logger = FigLogger(fig, axes[0], 'Traininig')\n",
    "test_logger = FigLogger(fig, axes[1], 'Testing')"
   ]
  },
  {
   "cell_type": "code",
   "execution_count": 13,
   "metadata": {},
   "outputs": [
    {
     "data": {
      "image/png": "[encoded data removed]",
      "text/plain": [
       "<Figure size 720x288 with 4 Axes>"
      ]
     },
     "metadata": {},
     "output_type": "display_data"
    }
   ],
   "source": [
    "test(args.boardSz, 0, mnist_sudoku, optimizer, test_logger, mnist_test, args.mnistBatchSz)\n",
    "for epoch in range(1, args.nEpoch+1):\n",
    "    train(args.boardSz, epoch, mnist_sudoku, optimizer, train_logger, mnist_train, args.mnistBatchSz)\n",
    "    test(args.boardSz, epoch, mnist_sudoku, optimizer, test_logger, mnist_test, args.mnistBatchSz)\n",
    "    clear_output()\n",
    "    display(fig)"
   ]
  },
  {
   "cell_type": "code",
   "execution_count": null,
   "metadata": {},
   "outputs": [],
   "source": []
  }
 ],
 "metadata": {
  "kernelspec": {
   "display_name": "Python 3",
   "language": "python",
   "name": "python3"
  },
  "language_info": {
   "codemirror_mode": {
    "name": "ipython",
    "version": 3
   },
   "file_extension": ".py",
   "mimetype": "text/x-python",
   "name": "python",
   "nbconvert_exporter": "python",
   "pygments_lexer": "ipython3",
   "version": "3.6.8"
  }
 },
 "nbformat": 4,
 "nbformat_minor": 2
}
